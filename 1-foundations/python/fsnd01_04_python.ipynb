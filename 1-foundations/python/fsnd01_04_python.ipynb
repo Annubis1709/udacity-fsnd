{
 "cells": [
  {
   "cell_type": "markdown",
   "metadata": {},
   "source": [
    "# Lesson 04. Python intro\n",
    "\n",
    "**Udacity Full Stack Web Developer Nanodegree program**\n",
    "\n",
    "Part 01. Programming fundamentals and the web\n",
    "\n",
    "[Programming foundations with Python](https://www.udacity.com/course/programming-foundations-with-python--ud036)\n",
    "\n",
    "Brendon Smith\n",
    "\n",
    "br3ndonland"
   ]
  },
  {
   "cell_type": "markdown",
   "metadata": {},
   "source": [
    "## 01. What will we create?\n",
    "    \n",
    "Kunal, Udacity instructor\n",
    "\n",
    "1. project take a break\n",
    "\n",
    "2. project profanity editor\n",
    "\n",
    "3. project movie database\n",
    "\n",
    "*I stopped here for a bit to review basic python and drill loops and if statements. See [Appendix](#appendix) below for some examples.*\n",
    "\n",
    "## 02. Quiz: comfort level\n",
    "\n",
    "* Kunal said that in his computer science classes, students often started out interested, but became frustrated after the difficulty level skyrocketed.\n",
    "* I chose 3, somewhat comfortable, with writing computer programs.\n",
    "    \n",
    "## 03. What should I know?\n",
    "\n",
    "*(viewed source HTML on the website, copied here. Remember [Markdown can interpret HTML](https://daringfireball.net/projects/markdown/syntax#html)).*\n",
    "\n",
    "<div class=\"ltr\"><div class=\"ureact-markdown--markdown--3IhZa ureact-markdown \"><p>Need to brush up? Check out these helpful tutorials below:</p>\n",
    "<h3 id=\"if-statements\">If Statements</h3>\n",
    "<ol>\n",
    "<li><a target=\"_blank\" href=\"http://www.tutorialspoint.com/python/python_if_else.htm\">Tutorialspoint: If-Else Blocks</a></li>\n",
    "<li><a target=\"_blank\" href=\"https://classroom.udacity.com/courses/cs101/lessons/48753036/concepts/487343560923\">CS 101: If Statements</a></li>\n",
    "</ol>\n",
    "<h3 id=\"while-loops\">While Loops</h3>\n",
    "<ol>\n",
    "<li><a target=\"_blank\" href=\"http://www.tutorialspoint.com/python/python_while_loop.htm\">Tutorialspoint: Loops</a></li>\n",
    "<li><a target=\"_blank\" href=\"https://www.udacity.com/course/viewer#!/c-cs101/l-48753036/e-48686708/m-48480488\">CS 101: While Loops</a></li>\n",
    "</ol>\n",
    "<h3 id=\"functions\">Functions</h3>\n",
    "<ol>\n",
    "<li><a target=\"_blank\" href=\"http://anh.cs.luc.edu/python/hands-on/3.1/handsonHtml/functions.html\">Loyola University: Defining Functions</a></li>\n",
    "<li><a target=\"_blank\" href=\"https://classroom.udacity.com/courses/cs101/lessons/48753036/concepts/487134840923\">CS 101: Functions</a></li>\n",
    "</ol>\n",
    "</div></div><p class=\"ltr _notes-wide--forums-message--2LZQb\"><!-- react-text: 1610 -->Have questions?<!-- /react-text --><!-- react-text: 1611 --> <!-- /react-text --><!-- react-text: 1612 -->Head to the<!-- /react-text --><!-- react-text: 1613 -->&nbsp;<!-- /react-text --><a target=\"_blank\" href=\"https://forums.udacity.com?forum_path=c/nd004-full-stack-broadcast\">forums</a><!-- react-text: 1615 -->&nbsp;<!-- /react-text --><!-- react-text: 1616 -->for discussion with the Udacity Community.<!-- /react-text --></p></div>"
   ]
  },
  {
   "cell_type": "markdown",
   "metadata": {},
   "source": [
    "## 04. Quiz: test for loops\n",
    "\n",
    "They had a dance video shaking shoulders to the left and right three times.\n",
    "\n",
    "**I didn't really agree with the answer, so I re-coded it myself:**"
   ]
  },
  {
   "cell_type": "code",
   "execution_count": 1,
   "metadata": {},
   "outputs": [
    {
     "name": "stdout",
     "output_type": "stream",
     "text": [
      "shake shoulders to the left\n",
      "shake shoulders to the right\n",
      "shake shoulders to the left\n",
      "shake shoulders to the right\n",
      "shake shoulders to the left\n",
      "shake shoulders to the right\n",
      "Strike a pose\n"
     ]
    }
   ],
   "source": [
    "# Python for loops quiz\n",
    "# I would actually code it like this:\n",
    "\n",
    "num_1 = 1\n",
    "\n",
    "while(num_1 <= 3):\n",
    "    print('shake shoulders to the left')\n",
    "    print('shake shoulders to the right')\n",
    "    # omission of the line below may result in an infinite loop.\n",
    "    num_1 = num_1 + 1 \n",
    "print('Strike a pose')"
   ]
  },
  {
   "cell_type": "markdown",
   "metadata": {},
   "source": [
    "## 05. Quiz: Test for If Statements\n",
    "\n",
    "I drilled if-else statements for a while (see conditionals section below). I understood this immediately! Very happy with my syntax progress."
   ]
  },
  {
   "cell_type": "code",
   "execution_count": 2,
   "metadata": {},
   "outputs": [
    {
     "name": "stdout",
     "output_type": "stream",
     "text": [
      "Turn left\n"
     ]
    }
   ],
   "source": [
    "def determine_direction(message):\n",
    "    if message == 'TAKE THE ROAD LESS TRAVELLED':\n",
    "        print('Turn left')\n",
    "    elif message == 'COMFORT IS DIVINE':\n",
    "        print('Turn right')\n",
    "    else:\n",
    "        print('Stop here')\n",
    "        \n",
    "determine_direction('TAKE THE ROAD LESS TRAVELLED')"
   ]
  },
  {
   "cell_type": "markdown",
   "metadata": {},
   "source": [
    "## 06. What Will We Learn?\n",
    "\n",
    "Somewhat familiar ideas: lesson 0 and 1\n",
    "\n",
    "* Functions like `print('Hello, World!')`\n",
    "\n",
    "New ideas: lesson 2 and 3\n",
    "\n",
    "* Classes\n",
    "* Object-oriented programming"
   ]
  },
  {
   "cell_type": "markdown",
   "metadata": {},
   "source": [
    "## Appendix"
   ]
  },
  {
   "cell_type": "markdown",
   "metadata": {},
   "source": [
    "### Selection of jupyter notebook\n",
    "\n",
    "* This nanodegree will use Python.\n",
    "* Jupyter allows both markdown and inline code chunks in the same notebook.\n",
    "* It is easier to write Markdown in Sublime, but jupyter is a better choice because of the coding functionality.\n",
    "* The ability to run individual cells is useful for both code and markdown. Rendering Markdown is quicker than knitting an entire document with Rstudio, or using Markdown Preview with Sublime.\n",
    "* Rstudio has some similar features, but jupyter has support for more coding languages.\n",
    "* Jupyter is also useful for research because of checkpoint/version control and collaboration features. It is a good idea to get used to jupyter so I can use it for collaborative, reproducible research in the future.\n",
    "\n",
    "See [GitHub](https://github.com/br3ndonland/general/blob/master/br3ndonland_terminal.md) for more info on my computer setup.\n",
    "\n",
    "\n",
    "### Resources\n",
    "\n",
    "#### Python\n",
    "\n",
    "* [Python 3 documentation](https://docs.python.org/3/)\n",
    "* [Python PEP8 style guide](https://www.python.org/dev/peps/pep-0008/)\n",
    "* [Python PEP8 style checker](http://pep8online.com/)\n",
    "* [Python Central](http://pythoncentral.io/)\n",
    "* [jupyter/iPython documentation](http://nbviewer.jupyter.org/github/ipython/ipython/blob/3.x/examples/Index.ipynb)\n",
    "\n",
    "#### Markdown\n",
    "\n",
    "* [Markdown Guide](https://www.markdownguide.org/)\n",
    "* [CommonMark](http://commonmark.org/)\n",
    "* [GitHub-Flavored Markdown (GFM) Basic writing and formatting syntax](https://help.github.com/articles/basic-writing-and-formatting-syntax/)\n",
    "* [Page from the original creator of Markdown](https://daringfireball.net/projects/markdown/syntax)\n",
    "* [Dillinger](https://dillinger.io/), a helpful online Markdown editor with live preview."
   ]
  },
  {
   "cell_type": "markdown",
   "metadata": {},
   "source": [
    "### User input\n",
    "I worked on this later, out of interest."
   ]
  },
  {
   "cell_type": "code",
   "execution_count": 3,
   "metadata": {},
   "outputs": [
    {
     "name": "stdin",
     "output_type": "stream",
     "text": [
      "Please type your name:  Brendon\n"
     ]
    },
    {
     "name": "stdout",
     "output_type": "stream",
     "text": [
      "Yo yo yo Brendon! My new album just dropped!\n",
      "Yo yo yo Brendon! My new album just dropped!\n"
     ]
    }
   ],
   "source": [
    "name = input(\"Please type your name: \")\n",
    "# Old syntax\n",
    "print('Yo yo yo', name + '!', 'My new album just dropped!')\n",
    "# Python 3 string formatting\n",
    "print(\"Yo yo yo {}! My new album just dropped!\".format(name))"
   ]
  },
  {
   "cell_type": "markdown",
   "metadata": {},
   "source": [
    "### Loops"
   ]
  },
  {
   "cell_type": "code",
   "execution_count": 4,
   "metadata": {},
   "outputs": [
    {
     "name": "stdout",
     "output_type": "stream",
     "text": [
      "H\n",
      "A\n",
      "P\n",
      "P\n",
      "Y\n",
      " \n",
      "B\n",
      "I\n",
      "R\n",
      "T\n",
      "H\n",
      "D\n",
      "A\n",
      "Y\n",
      "!\n"
     ]
    }
   ],
   "source": [
    "# looping examples\n",
    "## simple example from GA_python101\n",
    "### this example prints each letter of the reference string `phrase` in turn, as uppercase\n",
    "\n",
    "phrase = 'Happy Birthday!' # establish a reference\n",
    "\n",
    "for letter in phrase: # perform the following for each letter in the phrase\n",
    "    print(letter.upper()) # print the letter as uppercase"
   ]
  },
  {
   "cell_type": "code",
   "execution_count": 5,
   "metadata": {
    "scrolled": true
   },
   "outputs": [
    {
     "name": "stdout",
     "output_type": "stream",
     "text": [
      "1\n",
      "2\n",
      "3\n",
      "4\n",
      "5\n",
      "6\n",
      "7\n",
      "8\n",
      "9\n",
      "10\n",
      "11\n",
      "12\n",
      "13\n",
      "14\n",
      "15\n"
     ]
    }
   ],
   "source": [
    "integers_2 = range(1, 16)\n",
    "\n",
    "for x in integers_2:\n",
    "    print(x)"
   ]
  },
  {
   "cell_type": "code",
   "execution_count": 6,
   "metadata": {
    "scrolled": true
   },
   "outputs": [
    {
     "name": "stdout",
     "output_type": "stream",
     "text": [
      "['red', 'green', 'blue', 'yellow', 'white', 'black', 'pink']\n",
      "color is red\n",
      "color is green\n",
      "color is blue\n",
      "color is yellow\n",
      "color is white\n",
      "color is black\n",
      "color is pink\n"
     ]
    }
   ],
   "source": [
    "# looping examples\n",
    "## example from Harvard Computefest Intro to Python 2017 python-cf17-02-language.ipynb\n",
    "\n",
    "colors = 'red green blue yellow white black pink'.split()\n",
    "print(colors)\n",
    "for c in colors:\n",
    "    print('color is', c)"
   ]
  },
  {
   "cell_type": "markdown",
   "metadata": {},
   "source": [
    "A while loop statement in Python programming language repeatedly executes a target statement as long as a given condition is true."
   ]
  },
  {
   "cell_type": "code",
   "execution_count": 7,
   "metadata": {},
   "outputs": [
    {
     "name": "stdout",
     "output_type": "stream",
     "text": [
      "shake shoulders to the left\n",
      "shake shoulders to the right\n",
      "shake shoulders to the left\n",
      "shake shoulders to the right\n",
      "shake shoulders to the left\n",
      "shake shoulders to the right\n",
      "Strike a pose.\n"
     ]
    }
   ],
   "source": [
    "num_1 = 1\n",
    "\n",
    "while(num_1 <= 3):\n",
    "    print('shake shoulders to the left')\n",
    "    print('shake shoulders to the right')\n",
    "    num_1 = num_1 + 1 # omission of this line may result in an infinite loop.\n",
    "else:\n",
    "    print('Strike a pose.')"
   ]
  },
  {
   "cell_type": "markdown",
   "metadata": {},
   "source": [
    "**To stop an infinite loop in jupyter, press `Esc` to enter command mode, and then `i,i` to interrupt the kernel.**"
   ]
  },
  {
   "cell_type": "markdown",
   "metadata": {},
   "source": [
    "### Conditionals"
   ]
  },
  {
   "cell_type": "code",
   "execution_count": 8,
   "metadata": {},
   "outputs": [
    {
     "name": "stdout",
     "output_type": "stream",
     "text": [
      "they are equal\n"
     ]
    }
   ],
   "source": [
    "# Conditionals (if statements)\n",
    "\n",
    "## simple example from GA_python101\n",
    "\n",
    "secret = 55\n",
    "value = 55\n",
    "\n",
    "if secret == value:\n",
    "    print('they are equal')\n",
    "else:\n",
    "    print('they are not equal')"
   ]
  },
  {
   "cell_type": "code",
   "execution_count": 9,
   "metadata": {},
   "outputs": [
    {
     "name": "stdout",
     "output_type": "stream",
     "text": [
      "Finally! This number is fifteen!\n"
     ]
    }
   ],
   "source": [
    "## more complicated example\n",
    "###\n",
    "### not sure how to do this with a range, like:\n",
    "### integers = [1, 2, 3, 4, 5, 6, 7, 8, 9, 10, 11, 12, 13, 14, 15]\n",
    "### integers = range(1, 15)\n",
    "integer = 15\n",
    "\n",
    "if integer == 1:\n",
    "    print('this number is one')\n",
    "elif integer == 10:\n",
    "    print('this number is ten')\n",
    "elif integer == 15:\n",
    "    print('Finally! This number is fifteen!')\n",
    "else:\n",
    "    print('End of line.')"
   ]
  },
  {
   "cell_type": "markdown",
   "metadata": {},
   "source": [
    "### Functions"
   ]
  },
  {
   "cell_type": "code",
   "execution_count": 10,
   "metadata": {},
   "outputs": [
    {
     "data": {
      "text/plain": [
       "5040"
      ]
     },
     "execution_count": 10,
     "metadata": {},
     "output_type": "execute_result"
    }
   ],
   "source": [
    "# Functions\n",
    "## factorial example from [repl.it](https://repl.it)\n",
    "### try running it with 0 and 7 as the inputs in the last line.\n",
    "\n",
    "def factorial(n):\n",
    "  if n == 0:\n",
    "    return 1\n",
    "  else:\n",
    "    return n * factorial(n - 1)\n",
    "factorial(7)"
   ]
  },
  {
   "cell_type": "code",
   "execution_count": 11,
   "metadata": {},
   "outputs": [
    {
     "name": "stdout",
     "output_type": "stream",
     "text": [
      "Yo br3ndonland!\n"
     ]
    },
    {
     "data": {
      "text/plain": [
       "(44, 106.5329983228432)"
      ]
     },
     "execution_count": 11,
     "metadata": {},
     "output_type": "execute_result"
    }
   ],
   "source": [
    "# Functions\n",
    "## example from Harvard Computefest Intro to Python 2017 \n",
    "## python-cf17-02-language.ipynb\n",
    "\n",
    "def say_hi(me):\n",
    "    print(\"Yo {}!\".format(me))\n",
    "\n",
    "me = \"br3ndonland\"\n",
    "say_hi(me)\n",
    "\n",
    "def f(x):\n",
    "    \"A function f of x that calculates a second order function for y and also z\"\n",
    "    y = 3*x + 2*x**2\n",
    "    z = 5*x**2 + 4*y**(0.5)\n",
    "    return y, z # tuple packing\n",
    "\n",
    "f(4)"
   ]
  },
  {
   "cell_type": "code",
   "execution_count": 12,
   "metadata": {},
   "outputs": [
    {
     "name": "stdout",
     "output_type": "stream",
     "text": [
      "given numlist: [1, -594, 90, 45, 7, 3, 59, 9087, 4, 2]\n",
      "Got a mean of 870.4\n"
     ]
    },
    {
     "data": {
      "text/plain": [
       "870.4"
      ]
     },
     "execution_count": 12,
     "metadata": {},
     "output_type": "execute_result"
    }
   ],
   "source": [
    "# Functions\n",
    "## example from Harvard Computefest Intro to Python 2017 \n",
    "## python-cf17-02-language.ipynb\n",
    "## Function exercise\n",
    "## * Create a list of 10 numbers, your choice.\n",
    "## * Use a `for` loop to iterate over it.\n",
    "## * Think about what you'd need to do to calculate the average\n",
    "## * Remember the `len()` function.\n",
    "\n",
    "number_list = [1, -594, 90, 45, 7, 3, 59, 9087, 4, 2]\n",
    "\n",
    "def myaverage(numlist):\n",
    "    'calculate the mean from an iterable of numbers'\n",
    "    print('given numlist:', numlist)\n",
    "    total = 0\n",
    "    for x in numlist:\n",
    "        total += x\n",
    "    mean = total / float(len(numlist))\n",
    "    print(\"Got a mean of\", mean)\n",
    "    return mean\n",
    "average = myaverage(number_list)\n",
    "average"
   ]
  },
  {
   "cell_type": "code",
   "execution_count": 13,
   "metadata": {},
   "outputs": [
    {
     "data": {
      "text/plain": [
       "870.4"
      ]
     },
     "execution_count": 13,
     "metadata": {},
     "output_type": "execute_result"
    }
   ],
   "source": [
    "# Functions\n",
    "## that was a very time-consuming way of calculating an average.\n",
    "## (in human time, not computer time)\n",
    "## how about this\n",
    "import statistics\n",
    "statistics.mean(number_list)"
   ]
  },
  {
   "cell_type": "code",
   "execution_count": 14,
   "metadata": {},
   "outputs": [
    {
     "data": {
      "text/plain": [
       "870.4"
      ]
     },
     "execution_count": 14,
     "metadata": {},
     "output_type": "execute_result"
    }
   ],
   "source": [
    "# numpy is also faster for humans, but imports a larger package\n",
    "# so may take longer for the computer.\n",
    "import numpy\n",
    "\n",
    "numpy.mean(number_list)\n"
   ]
  }
 ],
 "metadata": {
  "kernelspec": {
   "display_name": "Python 3",
   "language": "python",
   "name": "python3"
  },
  "language_info": {
   "codemirror_mode": {
    "name": "ipython",
    "version": 3
   },
   "file_extension": ".py",
   "mimetype": "text/x-python",
   "name": "python",
   "nbconvert_exporter": "python",
   "pygments_lexer": "ipython3",
   "version": "3.7.0"
  },
  "toc": {
   "nav_menu": {},
   "number_sections": true,
   "sideBar": true,
   "skip_h1_title": false,
   "toc_cell": false,
   "toc_position": {},
   "toc_section_display": "block",
   "toc_window_display": false
  }
 },
 "nbformat": 4,
 "nbformat_minor": 2
}
