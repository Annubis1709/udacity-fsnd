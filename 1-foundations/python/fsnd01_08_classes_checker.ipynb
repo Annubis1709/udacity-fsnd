{
 "cells": [
  {
   "cell_type": "markdown",
   "metadata": {},
   "source": [
    "# Lesson 08. Classes: Profanity checker\n",
    "\n",
    "**Udacity Full Stack Web Developer Nanodegree program**\n",
    "\n",
    "Part 01. Programming fundamentals and the web\n",
    "\n",
    "[Programming foundations with Python](https://www.udacity.com/course/programming-foundations-with-python--ud036)\n",
    "\n",
    "Brendon Smith\n",
    "\n",
    "br3ndonland"
   ]
  },
  {
   "cell_type": "markdown",
   "metadata": {},
   "source": [
    "## 01. Course Map\n",
    "\n",
    "## 02. Quiz: Embarrassing story\n",
    "\n",
    "When I heard Kunal's story of accidentally sending a curse word to his boss because he typed the wrong letter, I immediately thought of text auto-correct and looked up the history of its development. Wired had a [good article](https://www.wired.com/2014/07/history-of-autocorrect/). It was developed by Dean Hachamovitch, head of data science at Microsoft. There is an [autocorrect program on PyPi](https://pypi.python.org/pypi/autocorrect/0.3.0).\n",
    "\n",
    "\n",
    "## 03. Quiz: Planning Profanity Editor\n",
    "\n",
    "* Create a list of words, like Microsoft's “Words which should neither be flagged nor suggested” from the [Wired article](https://www.wired.com/2014/07/history-of-autocorrect), and replacements.\n",
    "* Find the words in the file\n",
    "* Replace words with replacements.\n",
    "\n",
    "\n",
    "## 04. Reading from a File\n",
    "\n",
    "Starting to code: read text from a file with `<file>.read()`.\n",
    "\n",
    "\"It just blows my mind that we can read from a text file with only a few lines of code.\" Kunal"
   ]
  },
  {
   "cell_type": "code",
   "execution_count": 38,
   "metadata": {},
   "outputs": [
    {
     "name": "stdout",
     "output_type": "stream",
     "text": [
      "-- Houston, we have a problem. (Apollo 13)\n",
      "\n",
      "-- Mama always said, life is like a box of chocolates. You never know what you are going to get. (Forrest Gump)\n",
      "\n",
      "-- You cant handle the truth. (A Few Good Men)\n",
      "\n",
      "-- I believe everything and I believe nothing. (A Shit in the Dark)\n"
     ]
    }
   ],
   "source": [
    "def read_text():\n",
    "    \"\"\"Read the contents of a text file.\"\"\"\n",
    "    quotes = open('movie_quotes.txt')\n",
    "    contents_of_file = quotes.read()\n",
    "    print(contents_of_file)\n",
    "    quotes.close()\n",
    "\n",
    "read_text()\n"
   ]
  },
  {
   "cell_type": "markdown",
   "metadata": {},
   "source": [
    "## 05. Quiz: Place Function `open`\n",
    "\n",
    "*Where do you think `open` resides?* -> I guessed correctly by looking at the code. It's in the standard library, but separate from `os`.\n",
    "\n",
    "Functions like `open` are so commonly used, that they are always available. They don't require a separate `import` command.\n",
    "\n",
    "\n",
    "## 06. Reading Open Documentation\n",
    "\n",
    "## 07. Connecting Turtles and Open\n",
    "\n",
    "`open` is one of the [built-in functions](https://docs.python.org/3/library/functions.html?highlight=built). It mentions objects. \n",
    "\n",
    "> Open file and return a corresponding [file object](https://docs.python.org/3/glossary.html#term-file-object).  \n",
    "\n",
    "\n",
    "*Where have we come across this before?* -> in the previous lesson on classes. An object is an instance of a class. Open, like Turtle, is calling some `__init__`-like function.\n",
    "\n",
    "> \"Being able to read documentation and experimenting with Python is a big part of learning to program.\" Kunal\n"
   ]
  },
  {
   "cell_type": "markdown",
   "metadata": {},
   "source": [
    "## 08. Quiz: Built-In Python Functions\n",
    "\n",
    "*1. Pick a built-in Python function. Read through its documentation.*\n",
    "\n",
    "*2. Use it in a new program and share your experience on the forum.*\n",
    "\n",
    "I took a look at the built-in functions and selected `tuple()`. I'm still not clear on what a `tuple` is, so it's a good chance to learn. "
   ]
  },
  {
   "cell_type": "markdown",
   "metadata": {},
   "source": [
    "### tuple starts\n",
    "\n",
    "A `tuple` is not really a function, but actually a type of ordered data structure (see the Python documentation [4.6. Sequence Types — list, tuple, range](https://docs.python.org/3/library/stdtypes.html#sequence-types-list-tuple-range)). It can contain both numbers and text strings, enclosed in parentheses and separated by commas. It's immutable, meaning that you can't modify it after creation (unlike dictionaries, which are mutable).\n",
    "\n",
    "From the [documentation](https://docs.python.org/3/library/functions.html?highlight=built#func-tuple):\n",
    "\n",
    "> <p>Rather than being a function, <a class=\"reference internal\" href=\"stdtypes.html#tuple\" title=\"tuple\"><code class=\"xref py py-class docutils literal\"><span class=\"pre\">tuple</span></code></a> is actually an immutable\n",
    "sequence type, as documented in <a class=\"reference internal\" href=\"stdtypes.html#typesseq-tuple\"><span class=\"std std-ref\">Tuples</span></a> and <a class=\"reference internal\" href=\"stdtypes.html#typesseq\"><span class=\"std std-ref\">Sequence Types — list, tuple, range</span></a>.</p>\n",
    "\n",
    "*Note that the `cmp()` function referenced on [Tutorialspoint](https://www.tutorialspoint.com/python/python_tuples.htm) was [removed in Python 3](https://docs.python.org/3/howto/sorting.html?highlight=cmp#the-old-way-using-the-cmp-parameter).*\n",
    "\n",
    "There are some built-in functions that can be used with tuples. I wrote some code that compares two tuples. I created tuples with identity information for two fearsome beasts from Star Wars: the [Rancor](http://starwars.wikia.com/wiki/Rancor) and the [Sarlacc](http://starwars.wikia.com/wiki/Sarlacc). Which one is taller? The Rancor might look taller, but the Sarlacc extends deep beneath the sands. Let's create a function to compare heights:"
   ]
  },
  {
   "cell_type": "code",
   "execution_count": 39,
   "metadata": {},
   "outputs": [
    {
     "name": "stdout",
     "output_type": "stream",
     "text": [
      "Sarlacc is taller!\n"
     ]
    }
   ],
   "source": [
    "# tuples: name, age in years, homeworld, height in meters, diet\n",
    "\n",
    "sarlacc = ('Sarlacc', 30000, 'Tatooine', 100, 'omnivorous')\n",
    "\n",
    "rancor = ('Rancor', 'unknown', 'Dathomir', 5, 'carnivorous')\n",
    "\n",
    "if rancor[3] > sarlacc[3]:\n",
    "    print('Rancor is taller!')\n",
    "elif sarlacc[3] > rancor[3]:\n",
    "    print('Sarlacc is taller!')\n"
   ]
  },
  {
   "cell_type": "markdown",
   "metadata": {},
   "source": [
    "### tuple struggles\n",
    "\n",
    "I experimented with different ways of creating the tuples. "
   ]
  },
  {
   "cell_type": "code",
   "execution_count": 32,
   "metadata": {},
   "outputs": [
    {
     "name": "stdout",
     "output_type": "stream",
     "text": [
      "('Sarlacc', 30000, 'Tatooine', 100) 4\n"
     ]
    },
    {
     "data": {
      "text/plain": [
       "'Tatooine'"
      ]
     },
     "execution_count": 32,
     "metadata": {},
     "output_type": "execute_result"
    }
   ],
   "source": [
    "name = 'Sarlacc'\n",
    "age = 30000\n",
    "homeworld = 'Tatooine'\n",
    "height = 100\n",
    "\n",
    "# combine the objects into a tuple\n",
    "Sarlacc = (name, age, homeworld, height)\n",
    "print(Sarlacc, len(Sarlacc))\n",
    "\n",
    "# return the third entry in the tuple\n",
    "# remember the tuple starts at 0, so this will be homeworld\n",
    "Sarlacc[2]\n"
   ]
  },
  {
   "cell_type": "markdown",
   "metadata": {},
   "source": [
    "I tried something similar to the `student_tuples` example in the \"[Sorting HOW TO](https://docs.python.org/3/howto/sorting.html?highlight=cmp#sorting-how-to)\" section of the Python 3 documentation. This creates a list with two tuples. It was difficult to work with because I couldn't slice the individual tuples. "
   ]
  },
  {
   "cell_type": "code",
   "execution_count": 2,
   "metadata": {
    "collapsed": true
   },
   "outputs": [
    {
     "name": "stdout",
     "output_type": "stream",
     "text": [
      "Rancor\n"
     ]
    }
   ],
   "source": [
    "# creates a list of two tuples\n",
    "star_wars_beasts = [\n",
    "('Rancor', 'unknown', 'Dathomir', 5, 'carnivorous'), \n",
    "('Sarlacc', 30000, 'Tatooine', 100, 'omnivorous')\n",
    "]\n",
    "print(star_wars_beasts[0][0])"
   ]
  },
  {
   "cell_type": "markdown",
   "metadata": {},
   "source": [
    "It was better to create two separate tuples. It is possible to do this in the same line of code, but the code will not be PEP 8 compliant."
   ]
  },
  {
   "cell_type": "code",
   "execution_count": 34,
   "metadata": {},
   "outputs": [
    {
     "name": "stdout",
     "output_type": "stream",
     "text": [
      "(30000, 'Tatooine', 100, 'omnivorous') \n",
      " ('unknown', 'Dathomir', 5, 'carnivorous')\n"
     ]
    }
   ],
   "source": [
    "# creates two separate tuples on the same line\n",
    "Sarlacc, Rancor = (30000, 'Tatooine', 100, 'omnivorous'), ('unknown', 'Dathomir', 5, 'carnivorous')\n",
    "print(Sarlacc, '\\n' ,Rancor)"
   ]
  },
  {
   "cell_type": "markdown",
   "metadata": {},
   "source": [
    "*What if I want to combine the objects into a tuple, so I can add another and still use the original names?*\n",
    "\n",
    "**I NEED A DICT!** \n",
    "\n",
    "See python-cf17-02-language and GA_python101.Rmd\n",
    "\n",
    "Here's the dict:"
   ]
  },
  {
   "cell_type": "code",
   "execution_count": 40,
   "metadata": {},
   "outputs": [
    {
     "name": "stdout",
     "output_type": "stream",
     "text": [
      "Tatooine\n"
     ]
    }
   ],
   "source": [
    "Sarlacc = {'name': 'Sarlacc', 'age, years': 30000, 'homeworld': 'Tatooine', 'height, meters': 100}\n",
    "print(Sarlacc['homeworld'])"
   ]
  },
  {
   "cell_type": "markdown",
   "metadata": {},
   "source": [
    "## 09. Checking for Curse Words\n",
    "\n",
    "### Next step with the code\n",
    "\n",
    "Now we need to scan the contents of the file for curse words. We can use the `urllib.urlopen` function from the standard library to open the wdylike site.\n",
    "\n",
    "```python\n",
    "import urllib\n",
    "\n",
    "\n",
    "def read_text():\n",
    "    \"\"\"Read the contents of a text file.\"\"\"\n",
    "    quotes = open('movie_quotes.txt')\n",
    "    contents_of_file = quotes.read()\n",
    "    print(contents_of_file)\n",
    "    quotes.close()\n",
    "    check_profanity(contents_of_file)\n",
    "\n",
    "\n",
    "def check_profanity(text_to_check):\n",
    "    \"\"\"Check the text file for profanity.\"\"\"\n",
    "    connection = urllib.urlopen('http://www.wdylike.appspot.com/?q='+text_to_check)\n",
    "    output = connection.read()\n",
    "    print(output)\n",
    "    connection.close()\n",
    "\n",
    "\n",
    "read_text()\n",
    "\n",
    "```\n",
    "\n",
    "### Instructor notes\n",
    "\n",
    "Checking for Curse Words\n",
    "\n",
    "1. [Using What Do You Love to check curse words](http://www.wdylike.appspot.com/?q=shot)\n",
    "2. [In case](http://en.wikipedia.org/wiki/Query_string) you are curious about the things we are adding after the ? in the link or URL\n",
    "\n",
    "\n",
    "### Comments\n",
    "\n",
    "**This exercise would have made more sense if I understood HTTP requests. We didn't go through HTTP requests until part 2 (developer tools).**\n",
    "\n",
    "**I was actually curious about the `?q=shot` text in the link above. This is the query. It's asking the website if \"shot\" is a curse word. Google discontinued the wdyl site, but this site returns a plaintext response: true if the word is a curse word, and false if it's not. I tried this out before watching the video, and caught on to it.**\n",
    "\n",
    "**It was also striking to find that, as of 2011, 96% of Google's revenue comes from AdWords, their advertising service.**"
   ]
  },
  {
   "cell_type": "markdown",
   "metadata": {},
   "source": [
    "## 10. Accessing a Website with Code\n",
    "\n",
    "**The code didn't run at first:**\n",
    "\n",
    "`AttributeError: module 'urllib' has no attribute 'urlopen'`\n",
    "\n",
    "**I searched the Python documentation for `urlopen`. The syntax is slightly different now.**\n",
    "\n",
    "Corrected version:\n",
    "\n",
    "```python\n",
    "from urllib.request import urlopen\n",
    "\n",
    "\n",
    "def read_text():\n",
    "    \"\"\"Read the contents of a text file.\"\"\"\n",
    "    quotes = open('movie_quotes.txt')\n",
    "    contents_of_file = quotes.read()\n",
    "    print(contents_of_file)\n",
    "    quotes.close()\n",
    "    check_profanity(contents_of_file)\n",
    "\n",
    "\n",
    "def check_profanity(text_to_check):\n",
    "    \"\"\"Check the text file for profanity.\"\"\"\n",
    "    connection = urlopen('http://www.wdylike.appspot.com/?q=' + text_to_check)\n",
    "    output = connection.read()\n",
    "    print(output)\n",
    "    connection.close()\n",
    "\n",
    "\n",
    "read_text()\n",
    "\n",
    "```\n",
    "\n",
    "I'm also getting an `HTTPError: HTTP Error 400: Bad Request`.  I ran a quick search and found a fix on [Stack Overflow](https://stackoverflow.com/questions/8840303/urllib2-http-error-400-bad-request), but the fix is outdated and didn't work for me.\n",
    "\n",
    "See below for solution."
   ]
  },
  {
   "cell_type": "markdown",
   "metadata": {},
   "source": [
    "## 11. Quiz: Place urllib and urlopen\n",
    "\n",
    "within the standard library. urlopen is a function within urllib.\n",
    "\n",
    "## 12. Reading urllib Documentation"
   ]
  },
  {
   "cell_type": "markdown",
   "metadata": {},
   "source": [
    "## 13. Printing a Better Output\n",
    "\n",
    "Added a few lines of code to print clear feedback on the result:\n",
    "\n",
    "```python\n",
    "from urllib.request import urlopen\n",
    "\n",
    "\n",
    "def read_text():\n",
    "    \"\"\"Read the contents of a text file.\"\"\"\n",
    "    quotes = open('movie_quotes.txt')\n",
    "    contents_of_file = quotes.read()\n",
    "    print(contents_of_file)\n",
    "    quotes.close()\n",
    "    check_profanity(contents_of_file)\n",
    "\n",
    "\n",
    "def check_profanity(text_to_check):\n",
    "    \"\"\"Check the text file for profanity.\"\"\"\n",
    "    connection = urlopen('http://www.wdylike.appspot.com/?q=' + text_to_check)\n",
    "    output = connection.read()\n",
    "    print(output)\n",
    "    connection.close()\n",
    "    if 'true' in output:\n",
    "        print(\"Profanity Alert!\")\n",
    "    elif \"false\" in output:\n",
    "        print(\"This document has no curse words!\")\n",
    "\n",
    "\n",
    "read_text()\n",
    "\n",
    "```"
   ]
  },
  {
   "cell_type": "markdown",
   "metadata": {},
   "source": [
    "## 14. Quiz: Profanity Editor Mini-Project\n"
   ]
  },
  {
   "cell_type": "markdown",
   "metadata": {},
   "source": [
    "### Code with `urllib.request` module\n",
    "\n",
    "I adapted the code for Python 3.6.2 and made it as concise as possible. My code was initially returning `HTTPError: HTTP Error 400: Bad Request`. There is another Udacian, tb7459, who got around this by replacing spaces with `%20` (ASCII spaces). The ASCII spaces can also be seen in the website url after [like this](http://www.wdylike.appspot.com/?q=i%20can%20take%20a%20shit%20at%20it). \n",
    "\n",
    "I rewrote my code, making it a little more concise by directly importing `urlopen`.  "
   ]
  },
  {
   "cell_type": "code",
   "execution_count": 42,
   "metadata": {},
   "outputs": [
    {
     "name": "stdout",
     "output_type": "stream",
     "text": [
      "-- Houston, we have a problem. (Apollo 13)\n",
      "\n",
      "-- Mama always said, life is like a box of chocolates. You never know what you are going to get. (Forrest Gump)\n",
      "\n",
      "-- You cant handle the truth. (A Few Good Men)\n",
      "\n",
      "-- I believe everything and I believe nothing. (A Shit in the Dark)\n",
      "Profanity Alert!\n"
     ]
    }
   ],
   "source": [
    "# Profanity checker mini-project\n",
    "# Code without Requests\n",
    "\n",
    "from urllib.request import urlopen\n",
    "\n",
    "\n",
    "def read_text():\n",
    "    \"\"\"Read the contents of a text file.\"\"\"\n",
    "    quotes = open('movie_quotes.txt')\n",
    "    contents_of_file = quotes.read()\n",
    "    print(contents_of_file)\n",
    "    quotes.close()\n",
    "    check_profanity(contents_of_file)\n",
    "\n",
    "\n",
    "def check_profanity(text_to_check):\n",
    "    \"\"\"Check the text file for profanity.\"\"\"\n",
    "    # ascii spaces\n",
    "    text_to_check = text_to_check.replace(' ', '%20')\n",
    "    text_to_check = text_to_check.replace('\\n', '%20')\n",
    "    # web query\n",
    "    connection = urlopen('http://www.wdylike.appspot.com/?q=' + text_to_check)\n",
    "    output = str(connection.read())\n",
    "    connection.close()\n",
    "    # output\n",
    "    if 'true' in output:\n",
    "        print('Profanity Alert!')\n",
    "    elif 'false' in output:\n",
    "        print('This document has no curse words!')\n",
    "    else:\n",
    "        print('Could not scan the document properly.')\n",
    "\n",
    "\n",
    "read_text()\n"
   ]
  },
  {
   "cell_type": "markdown",
   "metadata": {},
   "source": [
    "### Code with Requests module\n",
    "\n",
    "**I noted that the [Python documentation](https://docs.python.org/3/library/urllib.request.html) recommends the [Requests module](http://docs.python-requests.org/en/master/) instead, so I rewrote the code for Requests.** The author of Requests, Kenneth Reitz, is an interesting and talented person, and I enjoyed checking out his [personal website](https://www.kennethreitz.org/).\n",
    "\n",
    "I was able to pass the text directly to Requests without converting to ASCII spaces. The web query only requires one line with the `requests.get()` function, and the text response from the website can be referenced without creating an additional variable with the `r.text` function. \n",
    "\n",
    "Note that I was initially working with the \"response status code\" from the `requests.get()` function, which was not necessary. I was getting `<Response [200]>`, True, with or without profanity. A True response code just means that a response was received from the website. In order to actually return the text string from the website, I needed `r.text`."
   ]
  },
  {
   "cell_type": "code",
   "execution_count": 2,
   "metadata": {},
   "outputs": [
    {
     "name": "stdout",
     "output_type": "stream",
     "text": [
      "-- Houston, we have a problem. (Apollo 13)\n",
      "\n",
      "-- Mama always said, life is like a box of chocolates. You never know what you are going to get. (Forrest Gump)\n",
      "\n",
      "-- You cant handle the truth. (A Few Good Men)\n",
      "\n",
      "-- I believe everything and I believe nothing. (A Shit in the Dark)\n",
      "Profanity Alert!\n"
     ]
    }
   ],
   "source": [
    "# Profanity checker mini-project\n",
    "# Code rewritten for Requests\n",
    "\n",
    "import requests\n",
    "\n",
    "\n",
    "def read_text():\n",
    "    \"\"\"Read the contents of a text file.\"\"\"\n",
    "    quotes = open('movie_quotes.txt')\n",
    "    contents_of_file = quotes.read()\n",
    "    print(contents_of_file)\n",
    "    quotes.close()\n",
    "    check_profanity(contents_of_file)\n",
    "\n",
    "\n",
    "def check_profanity(text_to_check):\n",
    "    \"\"\"Check the text file for profanity.\"\"\"\n",
    "    # web query\n",
    "    r = requests.get('http://www.wdylike.appspot.com/?q=' + text_to_check)\n",
    "    # output\n",
    "    if 'true' in r.text:\n",
    "        print('Profanity Alert!')\n",
    "    elif 'false' in r.text:\n",
    "        print('This document has no curse words!')\n",
    "    else:\n",
    "        print('Could not scan the document properly.')\n",
    "\n",
    "\n",
    "read_text()\n"
   ]
  },
  {
   "cell_type": "markdown",
   "metadata": {},
   "source": [
    "### Comments\n",
    "\n",
    "I shared my progress with my family over the phone.\n",
    "\n",
    "I also note that this program is just a profanity *checker*, not really an editor. We're not actually replacing the profanity strings with alternatives."
   ]
  },
  {
   "cell_type": "markdown",
   "metadata": {},
   "source": [
    "## 15. Connecting Turtle, Open, and Urllib\n",
    "\n",
    "In each case, we have been working with objects.\n",
    "\n",
    "`brad = turtle.Turtle`: brad is an object of turtle\n",
    "`quotes = open(File)`: quotes is an object of file\n",
    "`connection = urllib.urlopen()`: a \"file-like object\"\n",
    "\n",
    "**Remember, classes are like blueprints, and objects are like specific instances of the blueprint.**\n"
   ]
  },
  {
   "cell_type": "markdown",
   "metadata": {},
   "source": [
    "## Feedback\n",
    "\n",
    "* This was a helpful and educational exercise.\n",
    "* This exercise would have made more sense if I understood HTTP requests. We didn't go through HTTP requests until part 2 (developer tools).\n",
    "* The program is just a profanity *checker*, not really an editor. We're not actually replacing the profanity strings with alternatives. The project could have included an autocorrect-type feature."
   ]
  }
 ],
 "metadata": {
  "kernelspec": {
   "display_name": "Python 3",
   "language": "python",
   "name": "python3"
  },
  "language_info": {
   "codemirror_mode": {
    "name": "ipython",
    "version": 3
   },
   "file_extension": ".py",
   "mimetype": "text/x-python",
   "name": "python",
   "nbconvert_exporter": "python",
   "pygments_lexer": "ipython3",
   "version": "3.7.0"
  },
  "toc": {
   "nav_menu": {},
   "number_sections": true,
   "sideBar": true,
   "skip_h1_title": false,
   "toc_cell": false,
   "toc_position": {},
   "toc_section_display": "block",
   "toc_window_display": false
  }
 },
 "nbformat": 4,
 "nbformat_minor": 2
}
