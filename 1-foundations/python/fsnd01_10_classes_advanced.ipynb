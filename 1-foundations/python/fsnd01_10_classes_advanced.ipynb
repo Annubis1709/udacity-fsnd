{
 "cells": [
  {
   "cell_type": "markdown",
   "metadata": {},
   "source": [
    "# Lesson 10: Make Classes: advanced topics\n",
    "\n",
    "**Udacity Full Stack Web Developer Nanodegree program**\n",
    "\n",
    "Part 01. Programming fundamentals and the web\n",
    "\n",
    "[Programming foundations with Python](https://www.udacity.com/course/programming-foundations-with-python--ud036)\n",
    "\n",
    "Brendon Smith\n",
    "\n",
    "br3ndonland"
   ]
  },
  {
   "cell_type": "markdown",
   "metadata": {},
   "source": [
    "## 01. Advanced Ideas in OOP\n",
    "\n",
    "## 02. Class Variables\n",
    "\n",
    "* Class variables can be shared by all instances of the Class.\n",
    "* The Google Style Guide recommends all caps for class variable names, like `VALID_RATINGS`.\n",
    "* PEP 8 [recommends](https://www.python.org/dev/peps/pep-0008/#class-names) CapWords for class names.\n",
    "\n",
    "*Instructor notes*:\n",
    "\n",
    "Around 0:40 or so, Kunal said with regard to the valid_ratings variable:\n",
    "\n",
    "\"...This is an array or a list...\"\n",
    "\n",
    "To avoid confusion down the road: Arrays and lists are actually not the same thing in Python. 99.9% of the time, you'll want to use lists. They're flexible, and good for pretty much every purpose.\n",
    "\n",
    "However, there is also an array.array class in Python, which is essentially a thin wrapper on top of C arrays.\n",
    "\n",
    "They're not something you'll probably need to use, but read more here if interested: http://www.wired.com/2011/08/python-notes-lists-vs-arrays/\n",
    "\n",
    "\n",
    "## 03. Quiz: Using Predefined Class Variables\n",
    "\n",
    "We explored three of the built-in class variables: `__doc__`, `__name__`, `__module__`.\n",
    "\n",
    "```python\n",
    "print(media.Movie.__doc__) # documentation function\n",
    "print(media.Movie.__name__) # prints the class function name\n",
    "print(media.Movie.__module__) # prints module name\n",
    "```\n",
    "```\n",
    "This class provides a way to store movie information.\n",
    "Movie\n",
    "media\n",
    "```\n"
   ]
  },
  {
   "cell_type": "code",
   "execution_count": 1,
   "metadata": {},
   "outputs": [
    {
     "data": {
      "text/plain": [
       "'Interfaces for launching and remotely controlling Web browsers.'"
      ]
     },
     "execution_count": 1,
     "metadata": {},
     "output_type": "execute_result"
    }
   ],
   "source": [
    "import webbrowser\n",
    "webbrowser.__doc__"
   ]
  },
  {
   "cell_type": "markdown",
   "metadata": {},
   "source": [
    "## 04. Inheritance\n",
    "\n",
    "This is another major topic in object-oriented programming. Think about it like a family. A child inherits characteristics and genomic material from their parents. Similarly, child classes can inherit information from parent classes\n",
    "\n",
    "## 05. Class Parent\n",
    "\n",
    "We create a parent class, and reference it in a child instance. While watching, I was thinking that the parent class should be in a separate file. Kunal addressed this, and he just combined them for ease of demonstration.\n",
    "\n",
    "```python\n",
    "# Udacity full-stack web developer nanodegree\n",
    "# 01. Programming fundamentals and the web\n",
    "# Lesson 10. Make Classes: Advanced Topics\n",
    "\n",
    "\n",
    "class Parent():\n",
    "    def __init__(self, last_name, eye_color):\n",
    "        print(\"Parent Constructor called.\")\n",
    "        self.last_name\n",
    "        self.eye_color\n",
    "\n",
    "\n",
    "# Normally the child instance would be in a separate file.\n",
    "# Included here for ease of demonstration.\n",
    "billy_cyrus = Parent(\"Cyrus\", \"blue\")\n",
    "print(billy_cyrus.last_name)\n",
    "\n",
    "```\n",
    "\n",
    "When I first ran this, I was getting `AttributeError: 'Parent' object has no attribute 'last_name'`. I hadn't finished defining parameters in the Parent Class.\n",
    "\n",
    "```python\n",
    "# Udacity full-stack web developer nanodegree\n",
    "# 01. Programming fundamentals and the web\n",
    "# Lesson 10. Make Classes: Advanced Topics\n",
    "\n",
    "\n",
    "class Parent():\n",
    "    def __init__(self, last_name, eye_color):\n",
    "        print(\"Parent Constructor called.\")\n",
    "        self.last_name = last_name\n",
    "        self.eye_color = eye_color\n",
    "\n",
    "\n",
    "# Normally the child instance would be in a separate file.\n",
    "# Included here for ease of demonstration.\n",
    "billy_cyrus = Parent(\"Cyrus\", \"blue\")\n",
    "print(billy_cyrus.last_name)\n",
    "\n",
    "```"
   ]
  },
  {
   "cell_type": "markdown",
   "metadata": {},
   "source": [
    "## 06. Quiz: What's the Output?\n",
    "\n",
    "The code seems highly redundant.\n",
    "\n",
    "*What will the output be?*\n",
    "\n",
    "```\n",
    "Parent Constructor called\n",
    "Child Constructor called\n",
    "Cyrus\n",
    "5\n",
    "```\n",
    "\n",
    "*output*:\n",
    "\n",
    "```\n",
    "Parent Constructor called.\n",
    "Cyrus\n",
    "Child Constructor called.\n",
    "Parent Constructor called.\n",
    "Cyrus\n",
    "5\n",
    "```\n",
    "When computing the `miley_cyrus` function, the Child Constructor is first called. The Child calls the Parent. The output is then generated."
   ]
  },
  {
   "cell_type": "markdown",
   "metadata": {},
   "source": [
    "## 07. Transitioning to Class `Movie`\n",
    "## 08. Updating the Design for Class `Movie`\n",
    "\n",
    "We revisit the code from our Class `Movie`. What if we wanted to add a similar Class for TV shows? Movies and TV shows share some characteristics, like the presence of a title and duration. We could create a parent function, `class Video():`, and group `class Movie(Video):` and `class TvShow(Video):` as child classes. Inheritance allows us to write code in an intuitive, human-readable way."
   ]
  },
  {
   "cell_type": "markdown",
   "metadata": {},
   "source": [
    "## 10. Reusing methods\n",
    "\n",
    "Kunal went back to the *inheritance.py* file, and defined a new instance method inside `class Parent()` called `show_info`. \n",
    "\n",
    "```python\n",
    "    def show_info(self):\n",
    "        print(\"Last Name - \" + self.last_name)\n",
    "        print(\"Eye Color - \" + self.eye_color)\n",
    "\n",
    "```\n",
    "\n",
    "He then referenced it with `billy_cyrus.show_info()`.\n"
   ]
  },
  {
   "cell_type": "markdown",
   "metadata": {},
   "source": [
    "## 11. Method Overriding\n",
    "\n",
    "The `show_info()` method is present inside the `class Parent():`. It can be created again inside the `class Child():`, and it will override the parent function."
   ]
  }
 ],
 "metadata": {
  "kernelspec": {
   "display_name": "Python 3",
   "language": "python",
   "name": "python3"
  },
  "language_info": {
   "codemirror_mode": {
    "name": "ipython",
    "version": 3
   },
   "file_extension": ".py",
   "mimetype": "text/x-python",
   "name": "python",
   "nbconvert_exporter": "python",
   "pygments_lexer": "ipython3",
   "version": "3.7.0"
  },
  "toc": {
   "nav_menu": {},
   "number_sections": true,
   "sideBar": true,
   "skip_h1_title": false,
   "toc_cell": false,
   "toc_position": {},
   "toc_section_display": "block",
   "toc_window_display": false
  }
 },
 "nbformat": 4,
 "nbformat_minor": 2
}
